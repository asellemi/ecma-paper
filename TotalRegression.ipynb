{
 "cells": [
  {
   "cell_type": "code",
   "execution_count": 92,
   "metadata": {},
   "outputs": [],
   "source": [
    "import pandas as pd\n",
    "import matplotlib.pyplot as plt\n",
    "import statsmodels.api as sm\n",
    "from stargazer.stargazer import Stargazer"
   ]
  },
  {
   "attachments": {},
   "cell_type": "markdown",
   "metadata": {},
   "source": [
    "## Load in all data from three sources:\n",
    "### County government spending, Median HH Income, and Mortality"
   ]
  },
  {
   "cell_type": "code",
   "execution_count": 106,
   "metadata": {},
   "outputs": [
    {
     "name": "stdout",
     "output_type": "stream",
     "text": [
      "             FIPS  Year State Code     County Name  Population  Total_Revenue  \\\n",
      "01001_1997  01001  1997         AL  Autauga County       40061           6951   \n",
      "01001_2000  01001  2000         AL  Autauga County       43671           8302   \n",
      "01001_2002  01001  2002         AL  Autauga County       43671          10579   \n",
      "01001_2004  01001  2004         AL  Autauga County       45604          11386   \n",
      "01001_2005  01001  2005         AL  Autauga County       48612          11843   \n",
      "\n",
      "            Median Household Income  Mortality Rate  Total_Educ_Total_Exp  \\\n",
      "01001_1997                  36803.0         428.212                    28   \n",
      "01001_2000                  45744.0         413.920                    28   \n",
      "01001_2002                  45872.0         395.884                   250   \n",
      "01001_2004                  45379.0         377.848                   275   \n",
      "01001_2005                  45019.0         368.830                   275   \n",
      "\n",
      "            Total_Construction  Public_Welf_Current_Exp  \n",
      "01001_1997                   0                    276.0  \n",
      "01001_2000                   0                    326.0  \n",
      "01001_2002                   0                    367.0  \n",
      "01001_2004                   0                    400.0  \n",
      "01001_2005                   0                    413.0  \n",
      "16848\n"
     ]
    }
   ],
   "source": [
    "govt_spending = pd.read_csv(\"WellBeingData/govt_spending_data.csv\")\n",
    "median_HHincome = pd.read_excel(\"WellBeingData/MHH_ALL_COMBINED.xlsx\", na_values=['.'])\n",
    "mortality = pd.read_csv('WellBeingData/mortality.csv')\n",
    "\n",
    "# print(len(govt_spending), len(median_HHincome), len(mortality))\n",
    "\n",
    "# Prepare Govt Spending Data\n",
    "govt_spending = govt_spending.dropna(subset=['State_Code', 'County'])\n",
    "govt_spending['FIPS'] = govt_spending['State_Code'].astype(int).astype(str).str.zfill(2) + govt_spending['County'].astype(int).astype(str).str.zfill(3)\n",
    "govt_spending.set_index(govt_spending['FIPS'].astype(str) + '_' + govt_spending['Year4'].astype(str), inplace=True)\n",
    "govt_spending = govt_spending[\n",
    "        ['FIPS', 'Year4', 'Name', 'Population'] +\n",
    "        ['Total Revenue (non per capita)', 'Total_Educ_Total_Exp', 'Total_Construction', 'Public_Welf_Current_Exp']\n",
    "    ]\n",
    "\n",
    "# Prepare Median HH Income data\n",
    "MHH_years = [col.split(' ')[3] for col in median_HHincome.columns if 'Median Household Income' in col]\n",
    "median_HHincome['FIPS Code'] = median_HHincome['FIPS Code'].astype(str).str.zfill(5)\n",
    "rows = []\n",
    "for i, row in median_HHincome.iterrows():\n",
    "    for y in MHH_years:\n",
    "        r = [row['FIPS Code'], row['Postal Code'], row['Name'], y, float(row[f'Median Household Income {y}'])]\n",
    "        rows.append(r)\n",
    "MHH = pd.DataFrame(rows)\n",
    "MHH.columns = ['FIPS', 'Postal Code', 'Name', 'Year', 'Median Household Income']\n",
    "MHH.set_index(MHH['FIPS'].astype(str) + '_' + MHH['Year'].astype(str), inplace=True)\n",
    "\n",
    "\n",
    "# Prepare Mortality data\n",
    "mort_years = range(1981, 2021)\n",
    "mortality = mortality.dropna(subset=['FIPS'])\n",
    "mortality['FIPS'] = mortality['FIPS'].astype(int).astype(str).str.zfill(5)\n",
    "rows = []\n",
    "for i, row in mortality.iterrows():\n",
    "    for y in mort_years:\n",
    "        r = [row['FIPS'], y, row[f'Mortality Rate, {y}*']]\n",
    "        rows.append(r)\n",
    "mortality = pd.DataFrame(rows)\n",
    "mortality.columns = ['FIPS', 'Year', 'Mortality Rate']\n",
    "mortality.set_index(mortality['FIPS'].astype(str) + '_' + mortality['Year'].astype(str), inplace=True)\n",
    "\n",
    "\n",
    "# Join all the data\n",
    "\n",
    "## Inner join on FIPS_Year\n",
    "\n",
    "r1 = pd.merge(govt_spending, MHH, left_index=True, right_index=True)\n",
    "r2 = pd.merge(r1, mortality, left_index=True, right_index=True)\n",
    "\n",
    "final = r2[[\n",
    "    'FIPS', 'Year_x', 'Postal Code', 'Name_y', 'Population',\n",
    "    'Total Revenue (non per capita)', 'Median Household Income', 'Mortality Rate',\n",
    "    'Total_Educ_Total_Exp', 'Total_Construction', 'Public_Welf_Current_Exp'\n",
    "]]\n",
    "\n",
    "final.columns = [\n",
    "    'FIPS', 'Year', 'State Code', 'County Name', 'Population',\n",
    "    'Total_Revenue', 'Median Household Income', 'Mortality Rate',\n",
    "    'Total_Educ_Total_Exp', 'Total_Construction', 'Public_Welf_Current_Exp'\n",
    "]\n",
    "\n",
    "print(final.head())\n",
    "print(len(final))"
   ]
  },
  {
   "attachments": {},
   "cell_type": "markdown",
   "metadata": {},
   "source": [
    "### Check the completeness of our inner joined data set."
   ]
  },
  {
   "cell_type": "code",
   "execution_count": 107,
   "metadata": {},
   "outputs": [
    {
     "name": "stdout",
     "output_type": "stream",
     "text": [
      "Total_Educ_Total_Exp \t\t\t\t 0.3538105413105413\n",
      "Total_Construction \t\t\t\t 0.7107668566001899\n",
      "Public_Welf_Current_Exp \t\t\t\t 0.7914292497625831\n",
      "Total_Revenue \t\t\t\t 0.9995251661918328\n",
      "Median Household Income \t\t\t\t 0.9996438746438746\n",
      "Mortality Rate \t\t\t\t 1.0\n"
     ]
    }
   ],
   "source": [
    "X_cols = ['Total_Educ_Total_Exp', 'Total_Construction', 'Public_Welf_Current_Exp']\n",
    "Y_cols = ['Total_Revenue', 'Median Household Income', 'Mortality Rate']\n",
    "\n",
    "for col in X_cols + Y_cols:\n",
    "    print(f'{col} \\t\\t\\t\\t {(final[col] > 0).sum() / len(final)}')"
   ]
  },
  {
   "cell_type": "code",
   "execution_count": 108,
   "metadata": {},
   "outputs": [
    {
     "name": "stdout",
     "output_type": "stream",
     "text": [
      "15442\n"
     ]
    }
   ],
   "source": [
    "# Drop any nans\n",
    "\n",
    "final = final.dropna(how='any')\n",
    "print(len(final))"
   ]
  },
  {
   "cell_type": "code",
   "execution_count": 109,
   "metadata": {},
   "outputs": [],
   "source": [
    "# Convert some of them to per capita, convert from thousands of dollars to dollars.\n",
    "\n",
    "for col in ['Total_Revenue', 'Total_Educ_Total_Exp', 'Total_Construction', 'Public_Welf_Current_Exp']:\n",
    "    final[col] /= final['Population'] / 1e3"
   ]
  },
  {
   "attachments": {},
   "cell_type": "markdown",
   "metadata": {},
   "source": [
    "## Run regressions"
   ]
  },
  {
   "cell_type": "code",
   "execution_count": 110,
   "metadata": {},
   "outputs": [
    {
     "name": "stdout",
     "output_type": "stream",
     "text": [
      "                            OLS Regression Results                            \n",
      "==============================================================================\n",
      "Dep. Variable:          Total_Revenue   R-squared:                       0.190\n",
      "Model:                            OLS   Adj. R-squared:                  0.190\n",
      "Method:                 Least Squares   F-statistic:                     1206.\n",
      "Date:                Fri, 26 May 2023   Prob (F-statistic):               0.00\n",
      "Time:                        18:31:49   Log-Likelihood:            -1.3427e+05\n",
      "No. Observations:               15442   AIC:                         2.685e+05\n",
      "Df Residuals:                   15438   BIC:                         2.686e+05\n",
      "Df Model:                           3                                         \n",
      "Covariance Type:            nonrobust                                         \n",
      "===========================================================================================\n",
      "                              coef    std err          t      P>|t|      [0.025      0.975]\n",
      "-------------------------------------------------------------------------------------------\n",
      "const                     841.2209     14.127     59.549      0.000     813.531     868.911\n",
      "Total_Educ_Total_Exp        0.9105      0.027     33.734      0.000       0.858       0.963\n",
      "Total_Construction          2.0198      0.059     34.347      0.000       1.905       2.135\n",
      "Public_Welf_Current_Exp     1.8976      0.088     21.603      0.000       1.725       2.070\n",
      "==============================================================================\n",
      "Omnibus:                    32936.377   Durbin-Watson:                   0.341\n",
      "Prob(Omnibus):                  0.000   Jarque-Bera (JB):        234668483.384\n",
      "Skew:                          18.637   Prob(JB):                         0.00\n",
      "Kurtosis:                     605.771   Cond. No.                         573.\n",
      "==============================================================================\n",
      "\n",
      "Notes:\n",
      "[1] Standard Errors assume that the covariance matrix of the errors is correctly specified.\n"
     ]
    }
   ],
   "source": [
    "#define predictor and response variables\n",
    "y = final['Total_Revenue'] \n",
    "x = final[X_cols]\n",
    "\n",
    "#add constant to predictor variables\n",
    "x = sm.add_constant(x)\n",
    "\n",
    "#fit linear regression model\n",
    "model1 = sm.OLS(y, x).fit()\n",
    "\n",
    "#view model summary\n",
    "print(model1.summary())"
   ]
  },
  {
   "cell_type": "code",
   "execution_count": 111,
   "metadata": {},
   "outputs": [
    {
     "name": "stdout",
     "output_type": "stream",
     "text": [
      "                               OLS Regression Results                              \n",
      "===================================================================================\n",
      "Dep. Variable:     Median Household Income   R-squared:                       0.030\n",
      "Model:                                 OLS   Adj. R-squared:                  0.030\n",
      "Method:                      Least Squares   F-statistic:                     158.4\n",
      "Date:                     Fri, 26 May 2023   Prob (F-statistic):          4.29e-101\n",
      "Time:                             18:31:52   Log-Likelihood:            -1.6874e+05\n",
      "No. Observations:                    15442   AIC:                         3.375e+05\n",
      "Df Residuals:                        15438   BIC:                         3.375e+05\n",
      "Df Model:                                3                                         \n",
      "Covariance Type:                 nonrobust                                         \n",
      "===========================================================================================\n",
      "                              coef    std err          t      P>|t|      [0.025      0.975]\n",
      "-------------------------------------------------------------------------------------------\n",
      "const                    4.166e+04    131.680    316.356      0.000    4.14e+04    4.19e+04\n",
      "Total_Educ_Total_Exp        0.5460      0.252      2.170      0.030       0.053       1.039\n",
      "Total_Construction          3.8099      0.548      6.951      0.000       2.736       4.884\n",
      "Public_Welf_Current_Exp    15.8822      0.819     19.398      0.000      14.277      17.487\n",
      "==============================================================================\n",
      "Omnibus:                     4164.305   Durbin-Watson:                   0.294\n",
      "Prob(Omnibus):                  0.000   Jarque-Bera (JB):            12512.227\n",
      "Skew:                           1.397   Prob(JB):                         0.00\n",
      "Kurtosis:                       6.411   Cond. No.                         573.\n",
      "==============================================================================\n",
      "\n",
      "Notes:\n",
      "[1] Standard Errors assume that the covariance matrix of the errors is correctly specified.\n"
     ]
    }
   ],
   "source": [
    "#define predictor and response variables\n",
    "y = final['Median Household Income'] \n",
    "x = final[X_cols]\n",
    "\n",
    "#add constant to predictor variables\n",
    "x = sm.add_constant(x)\n",
    "\n",
    "#fit linear regression model\n",
    "model2 = sm.OLS(y, x).fit()\n",
    "\n",
    "#view model summary\n",
    "print(model2.summary())"
   ]
  },
  {
   "cell_type": "code",
   "execution_count": 112,
   "metadata": {},
   "outputs": [
    {
     "name": "stdout",
     "output_type": "stream",
     "text": [
      "                            OLS Regression Results                            \n",
      "==============================================================================\n",
      "Dep. Variable:         Mortality Rate   R-squared:                       0.035\n",
      "Model:                            OLS   Adj. R-squared:                  0.035\n",
      "Method:                 Least Squares   F-statistic:                     189.1\n",
      "Date:                Fri, 26 May 2023   Prob (F-statistic):          1.98e-120\n",
      "Time:                        18:31:54   Log-Likelihood:                -88323.\n",
      "No. Observations:               15442   AIC:                         1.767e+05\n",
      "Df Residuals:                   15438   BIC:                         1.767e+05\n",
      "Df Model:                           3                                         \n",
      "Covariance Type:            nonrobust                                         \n",
      "===========================================================================================\n",
      "                              coef    std err          t      P>|t|      [0.025      0.975]\n",
      "-------------------------------------------------------------------------------------------\n",
      "const                     309.0781      0.721    428.686      0.000     307.665     310.491\n",
      "Total_Educ_Total_Exp        0.0243      0.001     17.634      0.000       0.022       0.027\n",
      "Total_Construction         -0.0455      0.003    -15.149      0.000      -0.051      -0.040\n",
      "Public_Welf_Current_Exp    -0.0490      0.004    -10.925      0.000      -0.058      -0.040\n",
      "==============================================================================\n",
      "Omnibus:                      185.320   Durbin-Watson:                   0.339\n",
      "Prob(Omnibus):                  0.000   Jarque-Bera (JB):              187.942\n",
      "Skew:                           0.258   Prob(JB):                     1.54e-41\n",
      "Kurtosis:                       2.842   Cond. No.                         573.\n",
      "==============================================================================\n",
      "\n",
      "Notes:\n",
      "[1] Standard Errors assume that the covariance matrix of the errors is correctly specified.\n"
     ]
    }
   ],
   "source": [
    "#define predictor and response variables\n",
    "y = final['Mortality Rate'] \n",
    "x = final[X_cols]\n",
    "\n",
    "#add constant to predictor variables\n",
    "x = sm.add_constant(x)\n",
    "\n",
    "#fit linear regression model\n",
    "model3 = sm.OLS(y, x).fit()\n",
    "\n",
    "#view model summary\n",
    "print(model3.summary())"
   ]
  },
  {
   "attachments": {},
   "cell_type": "markdown",
   "metadata": {},
   "source": [
    "## Data results in Graphs and Tables"
   ]
  },
  {
   "cell_type": "code",
   "execution_count": 113,
   "metadata": {},
   "outputs": [
    {
     "data": {
      "text/html": [
       "<div>\n",
       "<style scoped>\n",
       "    .dataframe tbody tr th:only-of-type {\n",
       "        vertical-align: middle;\n",
       "    }\n",
       "\n",
       "    .dataframe tbody tr th {\n",
       "        vertical-align: top;\n",
       "    }\n",
       "\n",
       "    .dataframe thead th {\n",
       "        text-align: right;\n",
       "    }\n",
       "</style>\n",
       "<table border=\"1\" class=\"dataframe\">\n",
       "  <thead>\n",
       "    <tr style=\"text-align: right;\">\n",
       "      <th></th>\n",
       "      <th>coef</th>\n",
       "      <th>std err</th>\n",
       "      <th>t</th>\n",
       "      <th>P&gt;|t|</th>\n",
       "      <th>[0.025</th>\n",
       "      <th>0.975]</th>\n",
       "    </tr>\n",
       "  </thead>\n",
       "  <tbody>\n",
       "    <tr>\n",
       "      <th>const</th>\n",
       "      <td>309.0781</td>\n",
       "      <td>0.721</td>\n",
       "      <td>428.686</td>\n",
       "      <td>0.0</td>\n",
       "      <td>307.665</td>\n",
       "      <td>310.491</td>\n",
       "    </tr>\n",
       "    <tr>\n",
       "      <th>Total_Educ_Total_Exp</th>\n",
       "      <td>0.0243</td>\n",
       "      <td>0.001</td>\n",
       "      <td>17.634</td>\n",
       "      <td>0.0</td>\n",
       "      <td>0.022</td>\n",
       "      <td>0.027</td>\n",
       "    </tr>\n",
       "    <tr>\n",
       "      <th>Total_Construction</th>\n",
       "      <td>-0.0455</td>\n",
       "      <td>0.003</td>\n",
       "      <td>-15.149</td>\n",
       "      <td>0.0</td>\n",
       "      <td>-0.051</td>\n",
       "      <td>-0.040</td>\n",
       "    </tr>\n",
       "    <tr>\n",
       "      <th>Public_Welf_Current_Exp</th>\n",
       "      <td>-0.0490</td>\n",
       "      <td>0.004</td>\n",
       "      <td>-10.925</td>\n",
       "      <td>0.0</td>\n",
       "      <td>-0.058</td>\n",
       "      <td>-0.040</td>\n",
       "    </tr>\n",
       "  </tbody>\n",
       "</table>\n",
       "</div>"
      ],
      "text/plain": [
       "                             coef  std err        t  P>|t|   [0.025   0.975]\n",
       "const                    309.0781    0.721  428.686    0.0  307.665  310.491\n",
       "Total_Educ_Total_Exp       0.0243    0.001   17.634    0.0    0.022    0.027\n",
       "Total_Construction        -0.0455    0.003  -15.149    0.0   -0.051   -0.040\n",
       "Public_Welf_Current_Exp   -0.0490    0.004  -10.925    0.0   -0.058   -0.040"
      ]
     },
     "execution_count": 113,
     "metadata": {},
     "output_type": "execute_result"
    }
   ],
   "source": [
    "# Note that tables is a list. The table at index 1 is the \"core\" table. Additionally, read_html puts dfs in a list, so we want index 0\n",
    "results_as_html = model.summary().tables[1].as_html()\n",
    "pd.read_html(results_as_html, header=0, index_col=0)[0]"
   ]
  },
  {
   "cell_type": "code",
   "execution_count": 114,
   "metadata": {},
   "outputs": [],
   "source": [
    "stargazer = Stargazer([model1, model2, model3])"
   ]
  },
  {
   "cell_type": "code",
   "execution_count": 115,
   "metadata": {},
   "outputs": [
    {
     "name": "stdout",
     "output_type": "stream",
     "text": [
      "\\begin{table}[!htbp] \\centering\n",
      "\\begin{tabular}{@{\\extracolsep{5pt}}lccc}\n",
      "\\\\[-1.8ex]\\hline\n",
      "\\hline \\\\[-1.8ex]\n",
      "\\\\[-1.8ex] & (1) & (2) & (3) \\\\\n",
      "\\hline \\\\[-1.8ex]\n",
      " Public_Welf_Current_Exp & 1.898$^{***}$ & 15.882$^{***}$ & -0.049$^{***}$ \\\\\n",
      "  & (0.088) & (0.819) & (0.004) \\\\\n",
      " Total_Construction & 2.020$^{***}$ & 3.810$^{***}$ & -0.045$^{***}$ \\\\\n",
      "  & (0.059) & (0.548) & (0.003) \\\\\n",
      " Total_Educ_Total_Exp & 0.911$^{***}$ & 0.546$^{**}$ & 0.024$^{***}$ \\\\\n",
      "  & (0.027) & (0.252) & (0.001) \\\\\n",
      " const & 841.221$^{***}$ & 41657.846$^{***}$ & 309.078$^{***}$ \\\\\n",
      "  & (14.127) & (131.680) & (0.721) \\\\\n",
      "\\hline \\\\[-1.8ex]\n",
      " Observations & 15,442 & 15,442 & 15,442 \\\\\n",
      " $R^2$ & 0.190 & 0.030 & 0.035 \\\\\n",
      " Adjusted $R^2$ & 0.190 & 0.030 & 0.035 \\\\\n",
      " Residual Std. Error & 1445.249(df = 15438) & 13471.786(df = 15438) & 73.762(df = 15438)  \\\\\n",
      " F Statistic & 1205.709$^{***}$ (df = 3.0; 15438.0) & 158.353$^{***}$ (df = 3.0; 15438.0) & 189.095$^{***}$ (df = 3.0; 15438.0) \\\\\n",
      "\\hline\n",
      "\\hline \\\\[-1.8ex]\n",
      "\\textit{Note:} & \\multicolumn{3}{r}{$^{*}$p$<$0.1; $^{**}$p$<$0.05; $^{***}$p$<$0.01} \\\\\n",
      "\\end{tabular}\n",
      "\\end{table}\n"
     ]
    }
   ],
   "source": [
    "print(stargazer.render_latex())"
   ]
  },
  {
   "cell_type": "code",
   "execution_count": 116,
   "metadata": {},
   "outputs": [],
   "source": [
    "final.to_excel(\"WellBeingData/final_tabulated_data.xlsx\")"
   ]
  },
  {
   "attachments": {},
   "cell_type": "markdown",
   "metadata": {},
   "source": [
    "## Run the same regressions, except for each year"
   ]
  },
  {
   "cell_type": "code",
   "execution_count": 118,
   "metadata": {},
   "outputs": [
    {
     "name": "stdout",
     "output_type": "stream",
     "text": [
      "1993\n",
      "1995\n",
      "1997\n",
      "1998\n",
      "1999\n",
      "2000\n",
      "2001\n",
      "2002\n",
      "2003\n",
      "2004\n",
      "2005\n",
      "2006\n",
      "2007\n",
      "2008\n",
      "2009\n",
      "2010\n",
      "2011\n",
      "2012\n",
      "2013\n",
      "2014\n",
      "2015\n",
      "2016\n",
      "2017\n",
      "2018\n",
      "2019\n"
     ]
    }
   ],
   "source": [
    "models = []\n",
    "\n",
    "for year in sorted(list(final['Year'].unique())):\n",
    "    idx = final[final['Year'] == year]\n",
    "\n",
    "    #define predictor and response variables\n",
    "    y = final.loc[idx, 'Total_Revenue'] \n",
    "    x = final.loc[idx, X_cols]\n",
    "\n",
    "    #add constant to predictor variables\n",
    "    x = sm.add_constant(x)\n",
    "\n",
    "    #fit linear regression model\n",
    "    model1 = sm.OLS(y, x).fit()\n",
    "\n",
    "    #view model summary\n",
    "    print(model1.summary())"
   ]
  },
  {
   "cell_type": "code",
   "execution_count": null,
   "metadata": {},
   "outputs": [],
   "source": []
  }
 ],
 "metadata": {
  "kernelspec": {
   "display_name": "Python 3",
   "language": "python",
   "name": "python3"
  },
  "language_info": {
   "codemirror_mode": {
    "name": "ipython",
    "version": 3
   },
   "file_extension": ".py",
   "mimetype": "text/x-python",
   "name": "python",
   "nbconvert_exporter": "python",
   "pygments_lexer": "ipython3",
   "version": "3.11.0"
  },
  "orig_nbformat": 4
 },
 "nbformat": 4,
 "nbformat_minor": 2
}
